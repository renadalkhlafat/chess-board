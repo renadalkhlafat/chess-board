{
 "cells": [
  {
   "cell_type": "code",
   "execution_count": 47,
   "metadata": {},
   "outputs": [],
   "source": [
    "import numpy as np\n",
    "import matplotlib.pyplot as plt"
   ]
  },
  {
   "cell_type": "code",
   "execution_count": 65,
   "metadata": {},
   "outputs": [
    {
     "name": "stderr",
     "output_type": "stream",
     "text": [
      "Clipping input data to the valid range for imshow with RGB data ([0..1] for floats or [0..255] for integers).\n"
     ]
    },
    {
     "name": "stdout",
     "output_type": "stream",
     "text": [
      "True\n",
      "False\n",
      "True\n",
      "True\n"
     ]
    },
    {
     "data": {
      "image/png": "[encoded data removed]",
      "text/plain": [
       "<Figure size 432x288 with 1 Axes>"
      ]
     },
     "metadata": {
      "needs_background": "light"
     },
     "output_type": "display_data"
    }
   ],
   "source": [
    "class Board:\n",
    "    def __init__(self):\n",
    "        self.attacking_queens = []\n",
    "        self.grid = np.zeros((16,16,3),np.float64)\n",
    "        for row in range(16):\n",
    "            for col in range(16):\n",
    "                if (not col % 2 and not row % 2) or ( col % 2 and  row % 2) :\n",
    "                    self.grid[row,col] = (1,1,1)\n",
    "        \n",
    "    \n",
    "    def add_red (self,row,col):\n",
    "        self.grid[row,col]=(1,.3,0)\n",
    "        self.red =[row,col]\n",
    "\n",
    "    def add_blue (self,row,col):\n",
    "        self.grid[row,col]=(0,1,1) \n",
    "        self.blue =[row,col]\n",
    "        self.attacking_queens.append(self.blue)\n",
    "\n",
    "    def add_green (self,row,col):\n",
    "        self.grid[row,col]=(0,1,0)\n",
    "        self.green =[row,col]\n",
    "        self.attacking_queens.append(self.green)\n",
    "\n",
    "    def add_purple (self,row,col):\n",
    "        self.grid[row,col]=(2,0,2)\n",
    "        self.purple =[row,col]\n",
    "        self.attacking_queens.append(self.purple)\n",
    "\n",
    "    def add_yellow (self,row,col):\n",
    "        self.grid[row,col]=(3,6,0)\n",
    "        self.yellow =[row,col]\n",
    "        self.attacking_queens.append(self.yellow)\n",
    "    \n",
    "    def render(self):\n",
    "        plt.imshow(self.grid)\n",
    "\n",
    "    def is_under_attack(self,queen):\n",
    "        if self.red[0] == queen[0] or self.red[1] == queen[1]:\n",
    "            return True\n",
    "        elif abs(self.red[0]-queen[0]) == abs(self.red[1]-queen[1]):\n",
    "            return True\n",
    "        else :\n",
    "            return False\n",
    "\n",
    "\n",
    "board = Board()\n",
    "board.add_red(5,4)\n",
    "board.add_blue(4,3)\n",
    "board.add_green(10,10)\n",
    "board.add_purple(1,8)\n",
    "board.add_yellow(13,4)\n",
    "board.render()\n",
    "\n",
    "for i in board.attacking_queens:\n",
    "  print(board.is_under_attack(i))\n",
    "\n",
    "   \n",
    "\n"
   ]
  },
  {
   "cell_type": "code",
   "execution_count": 56,
   "metadata": {},
   "outputs": [],
   "source": [
    "def test_on_same_row():\n",
    "    expected = True\n",
    "\n",
    "    board = Board()\n",
    "    board.add_blue(5,4)\n",
    "    board.add_red(5,3)\n",
    "    actual = board.is_under_attack(board.blue)\n",
    "\n",
    "    assert actual == expected\n",
    "\n",
    "def test_on_same_col():\n",
    "    expected = True\n",
    "\n",
    "    board = Board()\n",
    "    board.add_green(10,10)\n",
    "    board.add_red(5,10)\n",
    "    actual = board.is_under_attack(board.yellow)\n",
    "\n",
    "    assert actual == expected\n",
    "\n",
    "def test_on_same_diagonal():\n",
    "    expected = True\n",
    "\n",
    "    board = Board()\n",
    "    board.add_red(5,4)\n",
    "    board.add_purple(4,8)\n",
    "    actual = board.is_under_attack(board.purple)\n",
    "\n",
    "    assert actual == expected\n",
    "\n",
    "def test_not_under_attack():\n",
    "    expected = False\n",
    "\n",
    "    board = Board()\n",
    "    board.add_red(9,5)\n",
    "    board.add_blue(4,3)\n",
    "    actual = board.is_under_attack(board.blue)\n",
    "\n",
    "    assert actual == expected\n"
   ]
  }
 ],
 "metadata": {
  "interpreter": {
   "hash": "8d749079aa23af19dd74e801c0ac59d258f7ed5698cfe42c90b065612dbe20a7"
  },
  "kernelspec": {
   "display_name": "Python 3.9.7 64-bit ('.venv': poetry)",
   "name": "python3"
  },
  "language_info": {
   "codemirror_mode": {
    "name": "ipython",
    "version": 3
   },
   "file_extension": ".py",
   "mimetype": "text/x-python",
   "name": "python",
   "nbconvert_exporter": "python",
   "pygments_lexer": "ipython3",
   "version": "3.9.7"
  },
  "orig_nbformat": 4
 },
 "nbformat": 4,
 "nbformat_minor": 2
}
